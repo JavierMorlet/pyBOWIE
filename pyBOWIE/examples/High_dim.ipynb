{
 "cells": [
  {
   "cell_type": "markdown",
   "metadata": {},
   "source": [
    "# High dimensional case\n",
    "\n",
    "We will explore a 6D Ackley function. In this case, we have to use a dimension reduction technique"
   ]
  },
  {
   "cell_type": "code",
   "execution_count": null,
   "metadata": {},
   "outputs": [],
   "source": [
    "# Import libraries\n",
    "import numpy as np\n",
    "from pyBOWIE.core.main import BO\n",
    "from sklearn.decomposition import PCA\n",
    "from sklearn.manifold import Isomap"
   ]
  },
  {
   "cell_type": "code",
   "execution_count": null,
   "metadata": {},
   "outputs": [],
   "source": [
    "# Ackley function for 2 discrete and continuous\n",
    "dims = 6\n",
    "\n",
    "def ackley(x, a=20, b=0.2, c=2*np.pi, dims=dims):\n",
    "    \n",
    "    #dims = 10\n",
    "    term_sqrt = np.sum([x[:,i]**2 for i in range(dims)], axis=0)\n",
    "    term_exp = np.sum([np.cos(c*x[:,i]) for i in range(dims)], axis=0)\n",
    "    \n",
    "    return (-a*np.exp(-b*np.sqrt((1/dims)*term_sqrt)) - np.exp((1/dims)*term_exp) + a + np.exp(1))\n",
    "\n",
    "a = 32.7\n",
    "domain =[\n",
    "    *[{'type': 'continuous', 'domain': (-a, a)}]*dims\n",
    "]"
   ]
  },
  {
   "cell_type": "code",
   "execution_count": null,
   "metadata": {},
   "outputs": [],
   "source": [
    "# Uncomment below if you want the code to be executed\n",
    "# In this case, no reduction technique is used, leading to a Maximum recursion depth error\n",
    "#res = BO(ackley, domain, sense = \"minimize\", reducer=\"no\", verbose=1).optimize()"
   ]
  },
  {
   "cell_type": "markdown",
   "metadata": {},
   "source": [
    "By default, the algorithm will perform a reduction method for large scale problems (more than 6 dimensions), and if categorical variables are used.\n",
    "\n",
    "If the variables are continuous, the reduction method used will be PCA. The number of components of the PCA will be found by the algorithm."
   ]
  },
  {
   "cell_type": "code",
   "execution_count": null,
   "metadata": {},
   "outputs": [],
   "source": [
    "# Uncomment below if you want the code to be executed\n",
    "#res = BO(ackley, domain, sense = \"minimize\", n_jobs=4, verbose=1).optimize()"
   ]
  },
  {
   "cell_type": "markdown",
   "metadata": {},
   "source": [
    "By default, the algorithm will learn an inverse mapping of the dimension reduction technique. However, in the case of PCA, there is an analytical inverse much cheaper to use that the approximate inverse mapping. To activate the  analytical inverse set\n",
    "\n",
    "* inverter_transform=\"yes\""
   ]
  },
  {
   "cell_type": "code",
   "execution_count": null,
   "metadata": {},
   "outputs": [],
   "source": [
    "# Uncomment below if you want the code to be executed\n",
    "#res = BO(ackley, domain, sense = \"minimize\", inverter_transform=\"yes\", n_jobs=4, verbose=1).optimize()"
   ]
  },
  {
   "cell_type": "markdown",
   "metadata": {},
   "source": [
    "Used defined reducer can be specified"
   ]
  },
  {
   "cell_type": "code",
   "execution_count": null,
   "metadata": {},
   "outputs": [],
   "source": [
    "# Uncomment below if you want the code to be executed\n",
    "#pca = PCA(n_components=5)\n",
    "#res = BO(ackley, domain, sense = \"minimize\", n_jobs=4, reducer=pca, inverter_transform=\"yes\", verbose=1).optimize()"
   ]
  },
  {
   "cell_type": "markdown",
   "metadata": {},
   "source": [
    "The reduction method does not have to be linear, and manifold learning techniques can be used. However, inverse mapping will be used"
   ]
  },
  {
   "cell_type": "code",
   "execution_count": null,
   "metadata": {},
   "outputs": [],
   "source": [
    "# Uncomment below if you want the code to be executed\n",
    "#embedding = Isomap(n_components=5)\n",
    "#res = BO(ackley, domain, sense = \"minimize\", n_jobs=4, reducer=embedding, inverter_transform=\"no\", verbose=1).optimize()"
   ]
  },
  {
   "cell_type": "code",
   "execution_count": null,
   "metadata": {},
   "outputs": [],
   "source": []
  }
 ],
 "metadata": {
  "kernelspec": {
   "display_name": "Python 3",
   "language": "python",
   "name": "python3"
  },
  "language_info": {
   "codemirror_mode": {
    "name": "ipython",
    "version": 3
   },
   "file_extension": ".py",
   "mimetype": "text/x-python",
   "name": "python",
   "nbconvert_exporter": "python",
   "pygments_lexer": "ipython3",
   "version": "3.8.8"
  }
 },
 "nbformat": 4,
 "nbformat_minor": 2
}
