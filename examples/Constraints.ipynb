{
 "cells": [
  {
   "cell_type": "markdown",
   "metadata": {},
   "source": [
    "# Handling with constraints\n",
    "\n",
    "The library supports the use of optimization problems with arbitrary constraints. \n",
    "\n",
    "To explore the use of constraints, We will explore the 2D Six-Hump Camel function with two constraints. First, we will delve into the details of the unconstrained case to then explore the constrained case."
   ]
  },
  {
   "cell_type": "code",
   "execution_count": null,
   "metadata": {},
   "outputs": [],
   "source": [
    "# Import libraries\n",
    "import numpy as np\n",
    "import matplotlib.pyplot as plt\n",
    "from pyBOWIE.core.main import BO\n",
    "#from pyBOWIE.utils.Plotting import Plot_surrogate"
   ]
  },
  {
   "cell_type": "markdown",
   "metadata": {},
   "source": [
    "## Unconstrained case\n",
    "\n",
    "The objective function is \n",
    "\n",
    "$ f(x) = (4 -2.1x_1^2 + \\frac{x_1^4}{3}) \\, x_1^2 + x_1 \\, x_2 + (-4 + 4x_2^2) \\, x_2^2 $\n",
    "\n",
    "The problem has two optimal points, given by\n",
    "\n",
    "$x^{*} = (0.0898, -0.7126)$ and $(-0.0898, 0.7126)$\n",
    "\n",
    "Being the value of the function\n",
    "\n",
    "$f(x^*) = -1.0316$"
   ]
  },
  {
   "cell_type": "markdown",
   "metadata": {},
   "source": [
    "Define the objective function"
   ]
  },
  {
   "cell_type": "code",
   "execution_count": 3,
   "metadata": {},
   "outputs": [],
   "source": [
    "# Objective function\n",
    "def six_hump_camel_function(x):\n",
    "\n",
    "    return (4 - 2.1*x[:,0]**2 + (1/3)*(x[:,0]**4)) * x[:,0]**2 + x[:,0] * x[:,1] + (-4 + 4*x[:,1]**2) * x[:,1]**2\n",
    "\n",
    "domain = [{'type': 'continuous', 'domain': (-1.5,1.5)},\n",
    "        {'type': 'continuous', 'domain': (-1.5,1.5)}]"
   ]
  },
  {
   "cell_type": "markdown",
   "metadata": {},
   "source": [
    "Create a countor plot of the objective function and visualization of optimal points"
   ]
  },
  {
   "cell_type": "code",
   "execution_count": 4,
   "metadata": {},
   "outputs": [
    {
     "data": {
      "text/plain": [
       "<matplotlib.colorbar.Colorbar at 0x344b3c0d0>"
      ]
     },
     "execution_count": 4,
     "metadata": {},
     "output_type": "execute_result"
    },
    {
     "data": {
      "image/png": "[encoded data removed]",
      "text/plain": [
       "<Figure size 640x480 with 2 Axes>"
      ]
     },
     "metadata": {},
     "output_type": "display_data"
    }
   ],
   "source": [
    "# Countor plot of the unconstrained objective function\n",
    "n_plot = 500\n",
    "x_plot = np.array(np.meshgrid(*[np.linspace(-1.5, 1.5, n_plot)]*2)).T.reshape(-1,2)\n",
    "x1_plot, x2_plot = x_plot[:,0].reshape(n_plot,n_plot), x_plot[:,1].reshape(n_plot,n_plot)\n",
    "z_plot = six_hump_camel_function(x_plot).reshape(n_plot,n_plot)\n",
    "x1_opt, x2_opt = [0.0898, -0.0898], [-0.7126, 0.7126]\n",
    "plt.contourf(x1_plot, x2_plot, z_plot)\n",
    "plt.scatter(x1_opt, x2_opt, c='r')\n",
    "plt.colorbar()"
   ]
  },
  {
   "cell_type": "markdown",
   "metadata": {},
   "source": [
    "Solve the optimization problem"
   ]
  },
  {
   "cell_type": "code",
   "execution_count": 5,
   "metadata": {},
   "outputs": [],
   "source": [
    "# Uncomment below if you want the code to be executed\n",
    "#res_un = BO(six_hump_camel_function, domain=domain, sense=\"minimize\", verbose=1).optimize()"
   ]
  },
  {
   "cell_type": "code",
   "execution_count": 6,
   "metadata": {},
   "outputs": [],
   "source": [
    "#Plot_surrogate(res_un)"
   ]
  },
  {
   "cell_type": "markdown",
   "metadata": {},
   "source": [
    "## Constrained problem\n",
    "\n",
    "Now we delve into the constrained problem. Suppose we have the following constraints:\n",
    "\n",
    "$$\n",
    "- x_2 - 0.5 + | x_1 | - \\sqrt{1 - x_1^2} \\leq 0\n",
    "$$\n",
    "\n",
    "$$\n",
    "x_2 + 0.5 - | x_1 | - \\sqrt{1 - x_1^2} \\leq 0\n",
    "$$"
   ]
  },
  {
   "cell_type": "code",
   "execution_count": 7,
   "metadata": {},
   "outputs": [],
   "source": [
    "# Uncomment below if you want the code to be executed\n",
    "#constraints = [{'name': 'constr_1', 'constraint': '-x[:,1] - 0.5 + np.abs(x[:,0]) - np.sqrt(1-x[:,0]**2) <= 0'},\n",
    "#              {'name': 'constr_2', 'constraint': 'x[:,1] + 0.5 - np.abs(x[:,0]) - np.sqrt(1-x[:,0]**2) <= 0'}]"
   ]
  },
  {
   "cell_type": "markdown",
   "metadata": {},
   "source": [
    "Right now, two methods are available to handle constraints:\n",
    "\n",
    "* Probability of feasibility: \"PoF\"\n",
    "\n",
    "* Gaussian Process Clasification: \"GPC\""
   ]
  },
  {
   "cell_type": "markdown",
   "metadata": {},
   "source": [
    "Probability of feasibility"
   ]
  },
  {
   "cell_type": "code",
   "execution_count": 8,
   "metadata": {},
   "outputs": [],
   "source": [
    "# Uncomment below if you want the code to be executed\n",
    "#res_PoF = BO(six_hump_camel_function, domain=domain, sense=\"minimize\", constraints=constraints, constraints_method = \"PoF\", verbose=1).optimize()"
   ]
  },
  {
   "cell_type": "code",
   "execution_count": 9,
   "metadata": {},
   "outputs": [],
   "source": [
    "#Plot_surrogate(res_PoF)"
   ]
  },
  {
   "cell_type": "markdown",
   "metadata": {},
   "source": [
    "Gaussian Process Classification"
   ]
  },
  {
   "cell_type": "code",
   "execution_count": 10,
   "metadata": {},
   "outputs": [],
   "source": [
    "# Uncomment below if you want the code to be executed\n",
    "#res_GPC = BO(six_hump_camel_function, domain=domain, sense=\"minimize\", surrogate=\"GP\", engine='GPy', constraints=constraints, constraints_method = \"GPC\", verbose=1).optimize()"
   ]
  },
  {
   "cell_type": "code",
   "execution_count": 11,
   "metadata": {},
   "outputs": [],
   "source": [
    "#res_GPC = BO(six_hump_camel_function, domain=domain, sense=\"minimize\", surrogate=\"GP\", engine='gpflow', constraints=constraints, constraints_method = \"GPC\", verbose=1).optimize()\n",
    "#Plot_surrogate(res_GPC)"
   ]
  }
 ],
 "metadata": {
  "kernelspec": {
   "display_name": "Python 3",
   "language": "python",
   "name": "python3"
  },
  "language_info": {
   "codemirror_mode": {
    "name": "ipython",
    "version": 3
   },
   "file_extension": ".py",
   "mimetype": "text/x-python",
   "name": "python",
   "nbconvert_exporter": "python",
   "pygments_lexer": "ipython3",
   "version": "3.10.6"
  }
 },
 "nbformat": 4,
 "nbformat_minor": 2
}
