{
 "cells": [
  {
   "cell_type": "markdown",
   "metadata": {},
   "source": [
    "# Advanced tour\n",
    "\n",
    "Scope of this notebook\n",
    "\n",
    "We will explore how to handle some parameters of the library:\n",
    "\n",
    "<ul>\n",
    "  <li>surrogate</li>\n",
    "  <li>acquisition_function</li>\n",
    "  <li>xi_0</li>\n",
    "  <li>xi_decay</li>\n",
    "  <li>kernel</li>\n",
    "  <li>kern_discovery</li>\n",
    "  <li>kern_discovery_evals</li>\n",
    "  <li>x_0</li>\n",
    "  <li>f_0</li>\n",
    "  <li>design</li>\n",
    "  <li>n_p_design</li>\n",
    "  <li>n_jobs</li>\n",
    "  <li>n_restarts</li>\n",
    "  <li>max_iter</li>\n",
    "  <li>alpha</li>\n",
    "  <li>c1_param</li>\n",
    "  <li>c2_param</li>\n",
    "</ul>\n",
    "\n",
    "In all cases, verbose will be active\n",
    "\n",
    "For this prupose, the Ackley function will be used:\n",
    "\n",
    "$-a \\, \\exp \\left(-b \\, \\sqrt{\\frac{1}{2} \\, (x_1^2 + x_2^2)} \\right) - \n",
    "\\exp \\left( \\cos(c \\, x_1) + \\cos(c \\, x_2) \\right) + a + \\exp(1)$\n",
    "\n",
    "with $a = 20$, $b = 0.2$, and $c = 2 \\, \\pi$\n",
    "\n",
    "In the domain\n",
    "\n",
    "$x_1 \\in [-32.7, 32.7]$\n",
    "\n",
    "$x_2 \\in [-32.7, 32.7]$"
   ]
  },
  {
   "cell_type": "markdown",
   "metadata": {},
   "source": [
    "Other themes\n",
    "\n",
    "The approach to problems with constraints is discussed in:\n",
    "\n",
    "* Constraints.ipynb\n",
    "\n",
    "The use of discrete and mixed variables is discussed in\n",
    "\n",
    "* Variables_types.ipynb\n",
    "\n",
    "A deeper discution of the dimension reduction techniques can be found elsewere in:\n",
    "\n",
    "* High_dim.ipynb"
   ]
  },
  {
   "cell_type": "code",
   "execution_count": null,
   "metadata": {},
   "outputs": [],
   "source": [
    "# Import libraries\n",
    "import numpy as np\n",
    "from GPy import kern\n",
    "from pyBOWIE.core.main import BO"
   ]
  },
  {
   "cell_type": "code",
   "execution_count": null,
   "metadata": {},
   "outputs": [],
   "source": [
    "# Ackley function\n",
    "def ackley(x, a=20, b=0.2, c=2*np.pi):\n",
    "    \n",
    "    x1 = x[:,0]\n",
    "    x2 = x[:,1]\n",
    "    term_exp_1 = -b*np.sqrt((1/2)*(x1**2 + x2**2)) \n",
    "    term_exp_2 = (1/2)*(np.cos(c*x1) + np.cos(c*x2))\n",
    "\n",
    "    return (-a*np.exp(term_exp_1) - np.exp(term_exp_2) + a + np.exp(1))\n",
    "\n",
    "# Bounds\n",
    "a = 32.7\n",
    "domain =[\n",
    "    {'type': 'continuous', 'domain': (-a, a)},\n",
    "    {'type': 'continuous', 'domain': (-a, a)}\n",
    "]"
   ]
  },
  {
   "cell_type": "markdown",
   "metadata": {},
   "source": [
    "## Surrogate\n",
    "\n",
    "The available models at the moment are:\n",
    "\n",
    "* Gaussian Process: \"GP\"\n",
    "\n",
    "* Sparse Gaussian Process: \"SGP\"\n",
    "\n",
    "Default is GP, so to modify to SGP just make surrogate = \"SGP\""
   ]
  },
  {
   "cell_type": "markdown",
   "metadata": {},
   "source": [
    "Change the surrogate to Sparse Gaussian Process"
   ]
  },
  {
   "cell_type": "code",
   "execution_count": null,
   "metadata": {},
   "outputs": [],
   "source": [
    "# Uncomment below if you want the code to be executed\n",
    "#res = BO(ackley, domain, sense = \"minimize\", surrogate = \"SGP\", verbose = 1).optimize()"
   ]
  },
  {
   "cell_type": "markdown",
   "metadata": {},
   "source": [
    "## Acquisition function\n",
    "\n",
    "The available AF at the moment are \n",
    "\n",
    "* Probability of improvement: \"PI\"\n",
    "\n",
    "* Expected improvement: \"EI\"\n",
    "\n",
    "* Upper confidence bound: \"UCB\"\n",
    "\n",
    "Default is \n",
    "\n",
    "* acquisition_function = \"UCB\""
   ]
  },
  {
   "cell_type": "markdown",
   "metadata": {},
   "source": [
    "Change the Acquisition function to Expected improvement"
   ]
  },
  {
   "cell_type": "code",
   "execution_count": null,
   "metadata": {},
   "outputs": [],
   "source": [
    "# Uncomment below if you want the code to be executed\n",
    "#res = BO(ackley, domain, sense = \"minimize\", acquisition_function = \"EI\", verbose = 1).optimize()"
   ]
  },
  {
   "cell_type": "markdown",
   "metadata": {},
   "source": [
    "Change the Acquisition function to Probability of Improvement"
   ]
  },
  {
   "cell_type": "code",
   "execution_count": null,
   "metadata": {},
   "outputs": [],
   "source": [
    "# Uncomment below if you want the code to be executed\n",
    "#res = BO(ackley, domain, sense = \"minimize\", acquisition_function = \"PI\", verbose = 1).optimize()"
   ]
  },
  {
   "cell_type": "markdown",
   "metadata": {},
   "source": [
    "### Acquisition function hyperparameters.\n",
    "\n",
    "The hyperparameter of the af, usually refered as the exploration-exploitation trade-off parameter, is refered as xi in the library. Defaulf value is:\n",
    "\n",
    "* xi_0 = 2\n",
    "\n",
    "It can be modified by the user as float. \n",
    "\n",
    "Additionally, some authors recommend that the value of xi decreases as the algorithm continues. In this library, the decay of the hyperparameter is controlled by the parameter xi_decay. Defaulf value is:\n",
    "\n",
    "* xi_decay = \"yes\"\n",
    "\n",
    "Meaning the decay is active. \n",
    "It can be deactivated by changing xi_decay to \"no\", meaning that the value of xi is constant. "
   ]
  },
  {
   "cell_type": "markdown",
   "metadata": {},
   "source": [
    "Change the value of xi."
   ]
  },
  {
   "cell_type": "code",
   "execution_count": null,
   "metadata": {},
   "outputs": [],
   "source": [
    "# Uncomment below if you want the code to be executed\n",
    "#res = BO(ackley, domain, sense = \"minimize\", xi_0 = 1, verbose = 1).optimize()"
   ]
  },
  {
   "cell_type": "markdown",
   "metadata": {},
   "source": [
    "Change the value of xi_decay."
   ]
  },
  {
   "cell_type": "code",
   "execution_count": null,
   "metadata": {},
   "outputs": [],
   "source": [
    "# Uncomment below if you want the code to be executed.\n",
    "#res = BO(ackley, domain, sense = \"minimize\", xi_0 = 1, xi_decay = \"no\", verbose = 1).optimize()"
   ]
  },
  {
   "cell_type": "markdown",
   "metadata": {},
   "source": [
    "## Initial design\n",
    "\n",
    "Initial estimates to build the surrogate model can be provided by the user. Otherwise, the initial estimates are sampled using a space-filling design."
   ]
  },
  {
   "cell_type": "markdown",
   "metadata": {},
   "source": [
    "### x_0 and f_0\n",
    "\n",
    "In this notation, x refers to the arguments, or dependent variable of the function, and f is the value of the cost function.\n",
    "\n",
    "$$\n",
    "f = f(x)\n",
    "$$\n",
    "\n",
    "So x_0 and f_0 refers to the initial points for x and f respectevly.\n",
    "\n",
    "Default values are\n",
    "\n",
    "* x_0 = None\n",
    "\n",
    "* f_0 = None\n",
    "\n",
    "These parameters of the library can be initialized in the form of numpy arrays. Just bear in mind the shape of the arrays. \n",
    "\n",
    "Note that if x_0 is initialized, f_0 can also be initialized or not. However, f_0 can not be initialized if x_0 is not initialized.\n",
    "In this example, the dependent variables are initialized randomly using the numpy.random module."
   ]
  },
  {
   "cell_type": "markdown",
   "metadata": {},
   "source": [
    "Initialize the arguments of the cost function, but not the cost function."
   ]
  },
  {
   "cell_type": "code",
   "execution_count": null,
   "metadata": {},
   "outputs": [],
   "source": [
    "# Uncomment below if you want the code to be executed\n",
    "#x_0 = np.random.uniform(-a, a, size=(50,2))\n",
    "#res = BO(ackley, domain, sense = \"minimize\", x_0 = x_0, verbose = 1).optimize()"
   ]
  },
  {
   "cell_type": "markdown",
   "metadata": {},
   "source": [
    "Initialize both the arguments of the cost function and the cost function."
   ]
  },
  {
   "cell_type": "code",
   "execution_count": null,
   "metadata": {},
   "outputs": [],
   "source": [
    "# Uncomment below if you want the code to be executed\n",
    "#f_0 = ackley(x_0).reshape(-1,1)\n",
    "#res = BO(ackley, domain, sense = \"minimize\", x_0 = x_0, f_0 = f_0, verbose = 1).optimize()"
   ]
  },
  {
   "cell_type": "markdown",
   "metadata": {},
   "source": [
    "### Design and n_p_design\n",
    "\n",
    "The available designs are:\n",
    "\n",
    "* Latin hypercube sampling: \"LHS\"\n",
    "\n",
    "* Sobol sequence: \"Sobol\"\n",
    "\n",
    "* Halton sequence: \"Halton\"\n",
    "\n",
    "* Random: \"random\"\n",
    "\n",
    "Default is \"LSH\""
   ]
  },
  {
   "cell_type": "markdown",
   "metadata": {},
   "source": [
    "Change the design to Random"
   ]
  },
  {
   "cell_type": "code",
   "execution_count": null,
   "metadata": {},
   "outputs": [],
   "source": [
    "# Uncomment below if you want the code to be executed\n",
    "#res = BO(ackley, domain, sense = \"minimize\", design = \"random\", verbose = 1).optimize()"
   ]
  },
  {
   "cell_type": "markdown",
   "metadata": {},
   "source": [
    "Change the design to Sobol secuence"
   ]
  },
  {
   "cell_type": "code",
   "execution_count": null,
   "metadata": {},
   "outputs": [],
   "source": [
    "# Uncomment below if you want the code to be executed\n",
    "#res = BO(ackley, domain, sense = \"minimize\", design = \"Sobol\", verbose = 1).optimize()"
   ]
  },
  {
   "cell_type": "markdown",
   "metadata": {},
   "source": [
    "Change the design to Halton secuence"
   ]
  },
  {
   "cell_type": "code",
   "execution_count": null,
   "metadata": {},
   "outputs": [],
   "source": [
    "# Uncomment below if you want the code to be executed\n",
    "#res = BO(ackley, domain, sense = \"minimize\", design = \"Halton\", verbose = 1).optimize()"
   ]
  },
  {
   "cell_type": "markdown",
   "metadata": {},
   "source": [
    "Change the points of the initial design \n",
    "\n",
    "The library automatically establish the number of points depending on the time of evaluating the cost function. \n",
    "The default value for n_p_design is \"None\". Yet, it can be defined by the user as an integer."
   ]
  },
  {
   "cell_type": "code",
   "execution_count": null,
   "metadata": {},
   "outputs": [],
   "source": [
    "# Uncomment below if you want the code to be executed\n",
    "#res = BO(ackley, domain, sense = \"minimize\", n_p_design = 50, verbose = 1).optimize()"
   ]
  },
  {
   "cell_type": "markdown",
   "metadata": {},
   "source": [
    "## Kernel learning\n",
    "\n",
    "In this work, a kernel learning algorithm was implemented to automate the choice of the covariance function. However, you can disable the use of this algorithm, and you can also define a covariance function"
   ]
  },
  {
   "cell_type": "markdown",
   "metadata": {},
   "source": [
    "### Kernel function discovery\n",
    "\n",
    "By default, the library searchs for the composition of covariace function. The basis kernels are:\n",
    "\n",
    "* linear\n",
    "\n",
    "* RBF\n",
    "\n",
    "* Matern52\n",
    "\n",
    "* Periodic\n",
    "\n",
    "Defaulf is \n",
    "\n",
    "* kern_discovery = \"yes\".\n",
    "\n",
    "If kernel discovery is not used, the default kernel is RBF."
   ]
  },
  {
   "cell_type": "code",
   "execution_count": null,
   "metadata": {},
   "outputs": [],
   "source": [
    "# Uncomment below if you want the code to be executed\n",
    "#res = BO(ackley, domain, sense = \"minimize\", kern_discovery = \"no\", verbose=1).optimize()"
   ]
  },
  {
   "cell_type": "markdown",
   "metadata": {},
   "source": [
    "### Kernel discovery number of evaluations\n",
    "\n",
    "Default is\n",
    "\n",
    "* kern_discovery_evals = 2\n",
    "\n",
    "Increasing the number of evaluations can severly increase the computational time of the algorithm."
   ]
  },
  {
   "cell_type": "code",
   "execution_count": null,
   "metadata": {},
   "outputs": [],
   "source": [
    "# Uncomment below if you want the code to be executed\n",
    "#res = BO(ackley, domain, sense = \"minimize\", kern_discovery_evals = 5, verbose=1).optimize()"
   ]
  },
  {
   "cell_type": "markdown",
   "metadata": {},
   "source": [
    "### User defined kernel\n",
    "\n",
    "Kernel can be specified from GPy kern module. In this example, we will define the Rational Quadratic kernel"
   ]
  },
  {
   "cell_type": "code",
   "execution_count": null,
   "metadata": {},
   "outputs": [],
   "source": [
    "# Uncomment below if you want the code to be executed\n",
    "#kernel = kern.RatQuad(input_dim=2, variance=1.0, lengthscale=1.0, power=2.0)\n",
    "#res = BO(ackley, domain, sense = \"minimize\", kern_discovery = \"no\", kernel =  kernel, verbose=1).optimize()"
   ]
  },
  {
   "cell_type": "markdown",
   "metadata": {},
   "source": [
    "## Other parameters\n",
    "\n",
    "* parallelization\n",
    "\n",
    "* max_iter\n",
    "\n",
    "* n_restarts\n",
    "\n",
    "* alpha\n",
    "                 \n",
    "* c1_param\n",
    "\n",
    "* c2_param"
   ]
  },
  {
   "cell_type": "markdown",
   "metadata": {},
   "source": [
    "Parallelization\n",
    "\n",
    "It allows executing parallel jobs for the evaluation of the cost function at multiple points per evaluation.\n",
    "\n",
    "Default is \n",
    "\n",
    "* n_jobs = None\n",
    "\n",
    "-1 means using all processors"
   ]
  },
  {
   "cell_type": "code",
   "execution_count": null,
   "metadata": {},
   "outputs": [],
   "source": [
    "# Uncomment below if you want the code to be executed\n",
    "#res = BO(ackley, domain, sense = \"minimize\", n_jobs = -1, verbose=1).optimize()"
   ]
  },
  {
   "cell_type": "markdown",
   "metadata": {},
   "source": [
    "max_iter\n",
    "\n",
    "Maximum number of iterations\n",
    "\n",
    "Default is\n",
    "\n",
    "* max_iter = 100"
   ]
  },
  {
   "cell_type": "code",
   "execution_count": null,
   "metadata": {},
   "outputs": [],
   "source": [
    "# Uncomment below if you want the code to be executed\n",
    "#res = BO(ackley, domain, sense = \"minimize\", max_iter = 50, verbose=1).optimize()"
   ]
  },
  {
   "cell_type": "markdown",
   "metadata": {},
   "source": [
    "n_restarts\n",
    "\n",
    "For the number of restarts for the optimization of the surrogate model\n",
    "\n",
    "Default is \n",
    "\n",
    "* n_restarts = 5\n",
    "\n",
    "Increasing this number may improve the surrogate model, but increase the computing time of the algorithm."
   ]
  },
  {
   "cell_type": "code",
   "execution_count": null,
   "metadata": {},
   "outputs": [],
   "source": [
    "# Uncomment below if you want the code to be executed\n",
    "#res = BO(ackley, domain, sense = \"minimize\", n_restarts = 10, verbose=1).optimize()"
   ]
  },
  {
   "cell_type": "markdown",
   "metadata": {},
   "source": [
    "alpha\n",
    "\n",
    "Confidence level for the Chi-squares and T-scores. Must be between 0 and 1.\n",
    "\n",
    "Default is \n",
    "\n",
    "* 0.95\n",
    "\n",
    "Reducing this number will reduce the confidence regions of the points that meet the filtering condition. "
   ]
  },
  {
   "cell_type": "code",
   "execution_count": null,
   "metadata": {},
   "outputs": [],
   "source": [
    "# Uncomment below if you want the code to be executed\n",
    "#res = BO(ackley, domain, sense = \"minimize\", alpha = 0.75, verbose=1).optimize()"
   ]
  },
  {
   "cell_type": "markdown",
   "metadata": {},
   "source": [
    "c1_param\n",
    "\n",
    "This is a parameter to control the maximum size of the initial desing matrix. \n",
    "\n",
    "Default is \n",
    "\n",
    "* 50\n",
    "\n",
    "The n_p_desing parameter is related to this parameter."
   ]
  },
  {
   "cell_type": "code",
   "execution_count": null,
   "metadata": {},
   "outputs": [],
   "source": [
    "# Uncomment below if you want the code to be executed\n",
    "#res = BO(ackley, domain, sense = \"minimize\", c1_param = 75, verbose=1).optimize()"
   ]
  },
  {
   "cell_type": "markdown",
   "metadata": {},
   "source": [
    "c2_param\n",
    "\n",
    "This parameter controls the number of grid samplings during search phase. We then apply the acquisition function in the grid points and use superlevel set filtration \n",
    "to partition the space. The partitioning helps to divide the search space into multiple subdomains with greater potential for improvement and enables parallelization.\n",
    "\n",
    "Default is\n",
    "\n",
    "* 10\n",
    "\n",
    "Increasing this parameter can improve the partitioning of levels that guide the process of searching for attractive regions, but be careful because large numbers can lead to problems of Maximum recursion depth"
   ]
  },
  {
   "cell_type": "code",
   "execution_count": null,
   "metadata": {},
   "outputs": [],
   "source": [
    "# Uncomment below if you want the code to be executed\n",
    "#res = BO(ackley, domain, sense = \"minimize\", c2_param = 12, verbose=1).optimize()"
   ]
  }
 ],
 "metadata": {
  "kernelspec": {
   "display_name": "Python 3",
   "language": "python",
   "name": "python3"
  },
  "language_info": {
   "codemirror_mode": {
    "name": "ipython",
    "version": 3
   },
   "file_extension": ".py",
   "mimetype": "text/x-python",
   "name": "python",
   "nbconvert_exporter": "python",
   "pygments_lexer": "ipython3",
   "version": "3.8.8"
  }
 },
 "nbformat": 4,
 "nbformat_minor": 2
}
