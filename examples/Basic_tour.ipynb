{
 "cells": [
  {
   "cell_type": "markdown",
   "metadata": {},
   "source": [
    "# Basic tour\n",
    "\n",
    "This notebook exemplifies the basic elements of the Bayesian optimization library.\n",
    "\n",
    "The library required arguments are:\n",
    "\n",
    "* The cost function\n",
    "\n",
    "* The domain and type of the variables\n",
    "\n",
    "* The sense, which means if you want to minimize or maximize\n",
    "\n",
    "For this prupose, we will define a 1D test function for optimization."
   ]
  },
  {
   "cell_type": "code",
   "execution_count": null,
   "metadata": {},
   "outputs": [],
   "source": [
    "# Import libraries\n",
    "import numpy as np\n",
    "import matplotlib.pyplot as plt\n",
    "from pyBOWIE.core.main import BO\n",
    "from pyBOWIE.utils.Plotting import Plot_AF, Plot_surrogate, Plot_regret"
   ]
  },
  {
   "cell_type": "markdown",
   "metadata": {},
   "source": [
    "Define the function.\n",
    "\n",
    "We will use the following test function:\n",
    "\n",
    "$f(x) = \\sin(x) + \\sin \\left( \\frac{2}{3} \\, x \\right) + \\ln (x)$\n",
    "\n",
    "in the range $x \\in [2.5, 25]$\n",
    "\n",
    "The minimum is at $x^* = 0.445398$, $f(x^*) = -5.17066$\n",
    "\n",
    "The function is build using the numpy library."
   ]
  },
  {
   "cell_type": "code",
   "execution_count": null,
   "metadata": {},
   "outputs": [],
   "source": [
    "#Test function\n",
    "# We have one variable $(x)$, which must be a numpy array with size $(n,1)$, where n is the number of points where the objective function will be evaluated.\n",
    "def test_fun(x, a = 2/3):\n",
    "\n",
    "    x1 = x[:,0]\n",
    "    \n",
    "    return np.sin(x1) + np.sin(a*x1) + np.log(x1)"
   ]
  },
  {
   "cell_type": "markdown",
   "metadata": {},
   "source": [
    "The bounds are defined as a list of dicts.\n",
    "\n",
    "For each variable, it should be defined a type and its domain corresponding to the lower and the upper bounds. As optional, a name can be added."
   ]
  },
  {
   "cell_type": "code",
   "execution_count": null,
   "metadata": {},
   "outputs": [],
   "source": [
    "xl = 2.5\n",
    "xu = 25\n",
    "domain =[{'name': 'x', 'type': 'continuous', 'domain': (xl, xu)}]"
   ]
  },
  {
   "cell_type": "markdown",
   "metadata": {},
   "source": [
    "We can plot the test function in the domain of the problem"
   ]
  },
  {
   "cell_type": "code",
   "execution_count": null,
   "metadata": {},
   "outputs": [],
   "source": [
    "x_plot = np.linspace(xl, xu, 100).reshape(-1,1)\n",
    "plt.plot(x_plot, test_fun(x_plot))"
   ]
  },
  {
   "cell_type": "markdown",
   "metadata": {},
   "source": [
    "Run\n",
    "\n",
    "We call the class BO from pyBOWIE.core.main with the 3 required parameters, and execute the algorithm with optimize()"
   ]
  },
  {
   "cell_type": "code",
   "execution_count": null,
   "metadata": {},
   "outputs": [],
   "source": [
    "res = BO(test_fun, domain = domain, sense = \"minimize\").optimize()"
   ]
  },
  {
   "cell_type": "markdown",
   "metadata": {},
   "source": [
    "The results are strored in res."
   ]
  },
  {
   "cell_type": "code",
   "execution_count": null,
   "metadata": {},
   "outputs": [],
   "source": [
    "# Print best value and its argument found by the algorithm\n",
    "print('f(x^*):', res.f_best)\n",
    "print('x^*:  ', res.x_best)"
   ]
  },
  {
   "cell_type": "markdown",
   "metadata": {},
   "source": [
    "Plots\n",
    "\n",
    "optionally, you can plot the final surrogate model, the acquisition function, and the regret in function of the number of iterations."
   ]
  },
  {
   "cell_type": "code",
   "execution_count": null,
   "metadata": {},
   "outputs": [],
   "source": [
    "#Plot_surrogate(res)"
   ]
  },
  {
   "cell_type": "code",
   "execution_count": null,
   "metadata": {},
   "outputs": [],
   "source": [
    "#Plot_AF(res)"
   ]
  },
  {
   "cell_type": "code",
   "execution_count": null,
   "metadata": {},
   "outputs": [],
   "source": [
    "#Plot_regret(res)"
   ]
  }
 ],
 "metadata": {
  "kernelspec": {
   "display_name": "Python 3 (ipykernel)",
   "language": "python",
   "name": "python3"
  },
  "language_info": {
   "codemirror_mode": {
    "name": "ipython",
    "version": 3
   },
   "file_extension": ".py",
   "mimetype": "text/x-python",
   "name": "python",
   "nbconvert_exporter": "python",
   "pygments_lexer": "ipython3",
   "version": "3.10.6"
  }
 },
 "nbformat": 4,
 "nbformat_minor": 4
}
