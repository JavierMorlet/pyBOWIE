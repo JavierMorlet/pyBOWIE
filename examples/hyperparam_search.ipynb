{
 "cells": [
  {
   "cell_type": "code",
   "execution_count": null,
   "metadata": {},
   "outputs": [],
   "source": [
    "# Import libraries\n",
    "import numpy as np\n",
    "from sklearn import svm\n",
    "from sklearn.ensemble import GradientBoostingRegressor\n",
    "from sklearn.model_selection import cross_val_score\n",
    "from sklearn.model_selection import GridSearchCV\n",
    "from sklearn.datasets import load_diabetes\n",
    "from pyBOWIE.core.main import BO"
   ]
  },
  {
   "cell_type": "markdown",
   "metadata": {},
   "source": [
    "Usig Grid search utility from sklearn"
   ]
  },
  {
   "cell_type": "code",
   "execution_count": null,
   "metadata": {},
   "outputs": [],
   "source": [
    "data = load_diabetes(return_X_y=True)\n",
    "x_train, y_train = data\n",
    "\n",
    "svr = GridSearchCV(\n",
    "    svm.SVR(kernel=\"rbf\", gamma=0.1), param_grid={\"kernel\": [\"rbf\", \"sigmoid\"], \"C\": np.logspace(0, 3, 4), \"gamma\": np.logspace(-2, 2, 5)},\n",
    "    scoring=\"neg_root_mean_squared_error\",\n",
    "    cv = 5\n",
    ")\n",
    "svr.fit(x_train, y_train)\n",
    "print(svr.best_params_, -svr.best_score_)"
   ]
  },
  {
   "cell_type": "code",
   "execution_count": null,
   "metadata": {},
   "outputs": [],
   "source": [
    "def fit_svc_cross_val(x, data = load_diabetes(return_X_y=True), cv = 5):\n",
    "\n",
    "    x_train, y_train = data\n",
    "    size_x = x.shape[0]\n",
    "    output = []\n",
    "    \n",
    "    for i in range(size_x):\n",
    "        model = svm.SVR(C=x[i,0], gamma=x[i,1], kernel=x[i,2])\n",
    "        output.append(-np.mean(cross_val_score(model, x_train, y_train, cv=cv, scoring=\"neg_root_mean_squared_error\")))\n",
    "\n",
    "    return np.array(output)\n",
    "\n",
    "domain =[{'name': 'C',      'type': 'continuous', 'domain': (1.0, 1000.0)},\n",
    "         {'name': 'gamma',  'type': 'continuous', 'domain': (1.e-02, 1.e+02)},\n",
    "         {'name': 'kernel', 'type': 'categorical', 'domain': (\"rbf\", \"sigmoid\")},\n",
    "         ]"
   ]
  },
  {
   "cell_type": "code",
   "execution_count": null,
   "metadata": {},
   "outputs": [],
   "source": [
    "res = BO(fit_svc_cross_val, domain=domain, sense=\"minimize\", verbose=1).optimize()"
   ]
  },
  {
   "cell_type": "code",
   "execution_count": null,
   "metadata": {},
   "outputs": [],
   "source": [
    "res = BO(fit_svc_cross_val, domain=domain, sense=\"minimize\", kern_discovery_evals = 4, n_jobs=-1, verbose=1).optimize()"
   ]
  },
  {
   "cell_type": "code",
   "execution_count": null,
   "metadata": {},
   "outputs": [],
   "source": []
  }
 ],
 "metadata": {
  "kernelspec": {
   "display_name": "Python 3",
   "language": "python",
   "name": "python3"
  },
  "language_info": {
   "codemirror_mode": {
    "name": "ipython",
    "version": 3
   },
   "file_extension": ".py",
   "mimetype": "text/x-python",
   "name": "python",
   "nbconvert_exporter": "python",
   "pygments_lexer": "ipython3",
   "version": "3.8.8"
  }
 },
 "nbformat": 4,
 "nbformat_minor": 2
}
