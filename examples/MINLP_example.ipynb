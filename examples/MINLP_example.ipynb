{
 "cells": [
  {
   "cell_type": "markdown",
   "metadata": {},
   "source": [
    "# Mixed Integer Nonlinear Programming (MINLP) problem\n",
    "\n",
    "Objective function\n",
    "$x_1 - x_2 - y_1 - x_1 \\, y_1 + x_1 \\, y_2 + x_2 \\, y_1 - x_2 \\, y_2$\n",
    "\n",
    "Constraints\n",
    "\n",
    "$x_1 + 2 \\, x_2 \\leq 8$\n",
    "\n",
    "$4 \\, x_1 + x_2 \\leq 12$\n",
    "\n",
    "$3 \\, x_1 + 4 \\, x_2 \\leq 12$\n",
    "\n",
    "$x_1 \\in [0, 4]$\n",
    "\n",
    "$x_2 \\in [0, 4]$\n",
    "\n",
    "$y_1 \\in {0, 1, 2, 3, 4}$\n",
    "\n",
    "$y_2 \\in {0, 1, 2, 3, 4}$\n",
    "\n",
    "Optimal solution\n",
    "\n",
    "$x^* = [2.323, 1.2575]$\n",
    "\n",
    "$y^* = [1, 0]$\n",
    "\n",
    "$f(x^*,y^*) = -7.196$"
   ]
  },
  {
   "cell_type": "code",
   "execution_count": null,
   "metadata": {},
   "outputs": [],
   "source": [
    "# Import libraries\n",
    "import numpy as np\n",
    "from sklearn.decomposition import PCA\n",
    "from pyBOWIE.core.main import BO"
   ]
  },
  {
   "cell_type": "code",
   "execution_count": null,
   "metadata": {},
   "outputs": [],
   "source": [
    "# Objective function\n",
    "\n",
    "def MINLP(x):\n",
    "\n",
    "    x1 = x[:,0]\n",
    "    x2 = x[:,1]\n",
    "    y1 = x[:,2]\n",
    "    y2 = x[:,3]\n",
    "\n",
    "    return (x1 - x2 - y1 - x1*y1 + x1*y2 + x2*y1 - x2*y2)\n",
    "\n",
    "domain =[\n",
    "    {'name': 'x1', 'type': 'continuous', 'domain': (0, 4)},\n",
    "    {'name': 'x2', 'type': 'continuous', 'domain': (0, 4)},\n",
    "    {'name': 'y1', 'type': 'integer', 'domain': (0, 1, 2, 3, 4)},\n",
    "    {'name': 'y2', 'type': 'integer', 'domain': (0, 1, 2, 3, 4)},\n",
    "]\n",
    "\n",
    "constraints = [\n",
    "    {'constraint': 'x[:,0] + 2*x[:,1] - 8 <= 0'},\n",
    "    {'constraint': '4*x[:,0] + x[:,1] - 12 <= 0'},\n",
    "    {'constraint': '3*x[:,0] + 4*x[:,1] - 12 <= 0'}\n",
    "]"
   ]
  },
  {
   "cell_type": "markdown",
   "metadata": {},
   "source": [
    "## Probability of Feasibility\n",
    "\n",
    "We explore the PoF methodology using a dimensionality reduction technique to map the input space into the feature space, and using the unitary scaling function."
   ]
  },
  {
   "cell_type": "code",
   "execution_count": null,
   "metadata": {},
   "outputs": [],
   "source": [
    "pca = PCA(n_components=4)\n",
    "res_PoF = BO(MINLP, domain=domain, sense=\"minimize\", constraints=constraints, constraints_method = \"PoF\", reducer = pca, n_jobs=4, verbose=1).optimize()"
   ]
  },
  {
   "cell_type": "code",
   "execution_count": null,
   "metadata": {},
   "outputs": [],
   "source": [
    "res_PoF_no_red = BO(MINLP, domain, sense = \"minimize\", constraints=constraints, constraints_method = \"PoF\", reducer = \"no\", n_jobs=4, verbose=1).optimize()"
   ]
  },
  {
   "cell_type": "markdown",
   "metadata": {},
   "source": [
    "## Gaussian Process Classifier\n",
    "\n",
    "We explore the GPC methodology using a dimensionality reduction technique to map the input space into the feature space, and using the unitary scaling function."
   ]
  },
  {
   "cell_type": "code",
   "execution_count": null,
   "metadata": {},
   "outputs": [],
   "source": [
    "res_GPC = BO(MINLP, domain=domain, sense=\"minimize\", constraints=constraints, constraints_method = \"GPC\", reducer = pca, n_jobs=4, verbose=1).optimize()"
   ]
  },
  {
   "cell_type": "code",
   "execution_count": null,
   "metadata": {},
   "outputs": [],
   "source": [
    "res_GPC_no_red = BO(MINLP, domain=domain, sense=\"minimize\", constraints=constraints, constraints_method = \"GPC\", n_jobs=4, reducer = \"no\", verbose=1).optimize()"
   ]
  }
 ],
 "metadata": {
  "kernelspec": {
   "display_name": "Python 3",
   "language": "python",
   "name": "python3"
  },
  "language_info": {
   "codemirror_mode": {
    "name": "ipython",
    "version": 3
   },
   "file_extension": ".py",
   "mimetype": "text/x-python",
   "name": "python",
   "nbconvert_exporter": "python",
   "pygments_lexer": "ipython3",
   "version": "3.8.8"
  }
 },
 "nbformat": 4,
 "nbformat_minor": 2
}
