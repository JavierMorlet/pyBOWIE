{
 "cells": [
  {
   "cell_type": "markdown",
   "metadata": {},
   "source": [
    "# Handling with different variable types\n",
    "\n",
    "So far, in the Basic_tour and the Advanced_tour we have only used continuous variables types. \n",
    "This notebook explores the different types of variables that the library can support:\n",
    "\n",
    "* Continuous\n",
    "\n",
    "* Discrete\n",
    "\n",
    "* Categorical\n",
    "\n",
    "Therefore, we can have problems that handle only continuous or discrete variables, but also a mix of continuous and discrete, continuous and categorical, or continuous, discrete and categorical."
   ]
  },
  {
   "cell_type": "code",
   "execution_count": null,
   "metadata": {},
   "outputs": [],
   "source": [
    "# Import libraries\n",
    "import numpy as np\n",
    "from pyBOWIE.core.main import BO"
   ]
  },
  {
   "cell_type": "markdown",
   "metadata": {},
   "source": [
    "Define a mixed variable Ackley function"
   ]
  },
  {
   "cell_type": "markdown",
   "metadata": {},
   "source": [
    "We define the Ackley function for three variables, two continuous, and one integer. The integer variables $(y_1)$ can only take values from {-1,1,1}"
   ]
  },
  {
   "cell_type": "code",
   "execution_count": null,
   "metadata": {},
   "outputs": [],
   "source": [
    "# Ackley function for 2 discrete and continuous\n",
    "\n",
    "def ackley_mixed(x, a=20, b=0.2, c=2*np.pi):\n",
    "    \n",
    "    dims = 3\n",
    "    term_sqrt = np.sum([x[:,i]**2 for i in range(dims)], axis=0)\n",
    "    term_exp = np.sum([np.cos(c*x[:,i]) for i in range(dims)], axis=0)\n",
    "    \n",
    "    return (-a*np.exp(-b*np.sqrt((1/dims)*term_sqrt)) - np.exp((1/dims)*term_exp) + a + np.exp(1))\n",
    "\n",
    "a = 32.7\n",
    "domain_mixed =[\n",
    "    {'name': 'x1', 'type': 'continuous', 'domain': (-a, a)},\n",
    "    {'name': 'x2', 'type': 'continuous', 'domain': (-a, a)},\n",
    "    {'name': 'y1', 'type': 'integer', 'domain': (-1, 0, 1)}\n",
    "]"
   ]
  },
  {
   "cell_type": "markdown",
   "metadata": {},
   "source": [
    "Now we define the Ackley function in a discrete case. We have three variables, all integer, ranging from -32 to 33"
   ]
  },
  {
   "cell_type": "code",
   "execution_count": null,
   "metadata": {},
   "outputs": [],
   "source": [
    "# Ackley function for 3 discrete variables\n",
    "\n",
    "def ackley_discrete(x, a=20, b=0.2, c=2*np.pi):\n",
    "    \n",
    "    dims = 3\n",
    "    term_sqrt = np.sum([x[:,i]**2 for i in range(dims)], axis=0)\n",
    "    term_exp = np.sum([np.cos(c*x[:,i]) for i in range(dims)], axis=0)\n",
    "    \n",
    "    return (-a*np.exp(-b*np.sqrt((1/dims)*term_sqrt)) - np.exp((1/dims)*term_exp) + a + np.exp(1))\n",
    "\n",
    "domain_discrete = [\n",
    "    {'name': 'y1', 'type': 'integer', 'domain': tuple(np.arange(-32,33))},\n",
    "    {'name': 'y2', 'type': 'integer', 'domain': tuple(np.arange(-32,33))},\n",
    "    {'name': 'y3', 'type': 'integer', 'domain': tuple(np.arange(-32,33))}\n",
    "]"
   ]
  },
  {
   "cell_type": "markdown",
   "metadata": {},
   "source": [
    "## Mixed variables"
   ]
  },
  {
   "cell_type": "code",
   "execution_count": null,
   "metadata": {},
   "outputs": [],
   "source": [
    "# Uncomment below if you want the code to be executed\n",
    "#res = BO(ackley_mixed, domain_mixed, sense=\"minimize\", reducer=\"no\", n_jobs=-1, verbose=1).optimize()"
   ]
  },
  {
   "cell_type": "markdown",
   "metadata": {},
   "source": [
    "## Discrete variables"
   ]
  },
  {
   "cell_type": "code",
   "execution_count": null,
   "metadata": {},
   "outputs": [],
   "source": [
    "# Uncomment below if you want the code to be executed\n",
    "#res = BO(ackley_discrete, domain_discrete, sense=\"minimize\", reducer=\"no\", n_jobs=-1, verbose=1).optimize()"
   ]
  }
 ],
 "metadata": {
  "kernelspec": {
   "display_name": "Python 3",
   "language": "python",
   "name": "python3"
  },
  "language_info": {
   "codemirror_mode": {
    "name": "ipython",
    "version": 3
   },
   "file_extension": ".py",
   "mimetype": "text/x-python",
   "name": "python",
   "nbconvert_exporter": "python",
   "pygments_lexer": "ipython3",
   "version": "3.10.6"
  }
 },
 "nbformat": 4,
 "nbformat_minor": 2
}
